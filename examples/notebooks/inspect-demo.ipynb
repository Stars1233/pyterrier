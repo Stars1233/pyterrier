{
 "cells": [
  {
   "cell_type": "code",
   "execution_count": 1,
   "id": "7c174279-8b6c-4211-af7c-3256c56b90f7",
   "metadata": {},
   "outputs": [],
   "source": [
    "# !pip install python-terrier"
   ]
  },
  {
   "cell_type": "code",
   "execution_count": 2,
   "id": "880d4188-5583-4612-9791-85510bef0150",
   "metadata": {},
   "outputs": [],
   "source": [
    "import pandas as pd\n",
    "import pyterrier as pt"
   ]
  },
  {
   "cell_type": "code",
   "execution_count": 3,
   "id": "8582dc96-853a-4f30-af5c-a664043eede2",
   "metadata": {},
   "outputs": [
    {
     "name": "stderr",
     "output_type": "stream",
     "text": [
      "Java started (triggered by TerrierIndex.index_ref) and loaded: pyterrier.java, pyterrier.java.24, pyterrier.terrier.java [version=5.11 (build: craig.macdonald 2025-01-13 21:29), helper_version=0.0.8]\n"
     ]
    },
    {
     "name": "stdout",
     "output_type": "stream",
     "text": [
      "09:02:44.344 [main] WARN org.terrier.structures.BaseCompressingMetaIndex -- Structure meta reading data file directly from disk (SLOW) - try index.meta.data-source=fileinmem in the index properties file. 1.9 GiB of memory would be required.\n"
     ]
    },
    {
     "data": {
      "text/plain": [
       "[['qid', 'query'],\n",
       " ['qid', 'query', 'docid'],\n",
       " ['qid', 'query_toks'],\n",
       " ['qid', 'docno', 'query']]"
      ]
     },
     "execution_count": 3,
     "metadata": {},
     "output_type": "execute_result"
    }
   ],
   "source": [
    "terrier_index = pt.Artifact.from_hf(\"macavaney/msmarco-passage.terrier\")\n",
    "bm25 = terrier_index.bm25()\n",
    "# let's see what inputs BM25 accepets!\n",
    "pt.inspect.transformer_inputs(bm25)"
   ]
  },
  {
   "cell_type": "code",
   "execution_count": 4,
   "id": "19a44f7b-2603-434f-a8e3-e883e5d0345b",
   "metadata": {},
   "outputs": [
    {
     "data": {
      "text/plain": [
       "['qid', 'docid', 'docno', 'rank', 'score', 'query']"
      ]
     },
     "execution_count": 4,
     "metadata": {},
     "output_type": "execute_result"
    }
   ],
   "source": [
    "# nice, it looks like it accepts several different input configurations. Let's see the outputs when we use the first one\n",
    "pt.inspect.transformer_outputs(bm25, ['qid', 'query'])"
   ]
  },
  {
   "cell_type": "code",
   "execution_count": 5,
   "id": "0c981d0c-128f-4c5a-8d40-43be6b85208f",
   "metadata": {},
   "outputs": [
    {
     "data": {
      "text/html": [
       "<div>\n",
       "<style scoped>\n",
       "    .dataframe tbody tr th:only-of-type {\n",
       "        vertical-align: middle;\n",
       "    }\n",
       "\n",
       "    .dataframe tbody tr th {\n",
       "        vertical-align: top;\n",
       "    }\n",
       "\n",
       "    .dataframe thead th {\n",
       "        text-align: right;\n",
       "    }\n",
       "</style>\n",
       "<table border=\"1\" class=\"dataframe\">\n",
       "  <thead>\n",
       "    <tr style=\"text-align: right;\">\n",
       "      <th></th>\n",
       "      <th>qid</th>\n",
       "      <th>docid</th>\n",
       "      <th>docno</th>\n",
       "      <th>rank</th>\n",
       "      <th>score</th>\n",
       "      <th>query</th>\n",
       "    </tr>\n",
       "  </thead>\n",
       "  <tbody>\n",
       "    <tr>\n",
       "      <th>0</th>\n",
       "      <td>1</td>\n",
       "      <td>299652</td>\n",
       "      <td>299652</td>\n",
       "      <td>0</td>\n",
       "      <td>22.947724</td>\n",
       "      <td>terrier</td>\n",
       "    </tr>\n",
       "    <tr>\n",
       "      <th>1</th>\n",
       "      <td>1</td>\n",
       "      <td>2873114</td>\n",
       "      <td>2873114</td>\n",
       "      <td>1</td>\n",
       "      <td>22.879183</td>\n",
       "      <td>terrier</td>\n",
       "    </tr>\n",
       "    <tr>\n",
       "      <th>2</th>\n",
       "      <td>1</td>\n",
       "      <td>6088052</td>\n",
       "      <td>6088052</td>\n",
       "      <td>2</td>\n",
       "      <td>22.667023</td>\n",
       "      <td>terrier</td>\n",
       "    </tr>\n",
       "    <tr>\n",
       "      <th>3</th>\n",
       "      <td>1</td>\n",
       "      <td>1740938</td>\n",
       "      <td>1740938</td>\n",
       "      <td>3</td>\n",
       "      <td>22.372571</td>\n",
       "      <td>terrier</td>\n",
       "    </tr>\n",
       "    <tr>\n",
       "      <th>4</th>\n",
       "      <td>1</td>\n",
       "      <td>5944797</td>\n",
       "      <td>5944797</td>\n",
       "      <td>4</td>\n",
       "      <td>22.250772</td>\n",
       "      <td>terrier</td>\n",
       "    </tr>\n",
       "    <tr>\n",
       "      <th>...</th>\n",
       "      <td>...</td>\n",
       "      <td>...</td>\n",
       "      <td>...</td>\n",
       "      <td>...</td>\n",
       "      <td>...</td>\n",
       "      <td>...</td>\n",
       "    </tr>\n",
       "    <tr>\n",
       "      <th>995</th>\n",
       "      <td>1</td>\n",
       "      <td>8251288</td>\n",
       "      <td>8251288</td>\n",
       "      <td>995</td>\n",
       "      <td>15.911523</td>\n",
       "      <td>terrier</td>\n",
       "    </tr>\n",
       "    <tr>\n",
       "      <th>996</th>\n",
       "      <td>1</td>\n",
       "      <td>8454982</td>\n",
       "      <td>8454982</td>\n",
       "      <td>996</td>\n",
       "      <td>15.911523</td>\n",
       "      <td>terrier</td>\n",
       "    </tr>\n",
       "    <tr>\n",
       "      <th>997</th>\n",
       "      <td>1</td>\n",
       "      <td>8796747</td>\n",
       "      <td>8796747</td>\n",
       "      <td>997</td>\n",
       "      <td>15.911523</td>\n",
       "      <td>terrier</td>\n",
       "    </tr>\n",
       "    <tr>\n",
       "      <th>998</th>\n",
       "      <td>1</td>\n",
       "      <td>595850</td>\n",
       "      <td>595850</td>\n",
       "      <td>998</td>\n",
       "      <td>15.906338</td>\n",
       "      <td>terrier</td>\n",
       "    </tr>\n",
       "    <tr>\n",
       "      <th>999</th>\n",
       "      <td>1</td>\n",
       "      <td>1004316</td>\n",
       "      <td>1004316</td>\n",
       "      <td>999</td>\n",
       "      <td>15.906338</td>\n",
       "      <td>terrier</td>\n",
       "    </tr>\n",
       "  </tbody>\n",
       "</table>\n",
       "<p>1000 rows × 6 columns</p>\n",
       "</div>"
      ],
      "text/plain": [
       "    qid    docid    docno  rank      score    query\n",
       "0     1   299652   299652     0  22.947724  terrier\n",
       "1     1  2873114  2873114     1  22.879183  terrier\n",
       "2     1  6088052  6088052     2  22.667023  terrier\n",
       "3     1  1740938  1740938     3  22.372571  terrier\n",
       "4     1  5944797  5944797     4  22.250772  terrier\n",
       "..   ..      ...      ...   ...        ...      ...\n",
       "995   1  8251288  8251288   995  15.911523  terrier\n",
       "996   1  8454982  8454982   996  15.911523  terrier\n",
       "997   1  8796747  8796747   997  15.911523  terrier\n",
       "998   1   595850   595850   998  15.906338  terrier\n",
       "999   1  1004316  1004316   999  15.906338  terrier\n",
       "\n",
       "[1000 rows x 6 columns]"
      ]
     },
     "execution_count": 5,
     "metadata": {},
     "output_type": "execute_result"
    }
   ],
   "source": [
    "# so when we pass in a qid and query, we get out qid, docid, docno, rank, score, and query. Let's see it in action!\n",
    "bm25(pd.DataFrame([\n",
    "    {'qid': '1', 'query': 'terrier'}\n",
    "]))"
   ]
  },
  {
   "cell_type": "code",
   "execution_count": 6,
   "id": "0496be4f-d192-47b8-a9f5-549d71cf94d5",
   "metadata": {},
   "outputs": [
    {
     "data": {
      "text/plain": [
       "['qid', 'docid', 'rank', 'score', 'query', 'docno', 'text']"
      ]
     },
     "execution_count": 6,
     "metadata": {},
     "output_type": "execute_result"
    }
   ],
   "source": [
    "# We can also inspect pipelines consisting of multiple transformers\n",
    "bm25_and_load_text = bm25 >> terrier_index.text_loader()\n",
    "pt.inspect.transformer_outputs(bm25_and_load_text, ['qid', 'query'])\n",
    "# here we also get text output"
   ]
  },
  {
   "cell_type": "code",
   "execution_count": 7,
   "id": "906d40c9-d83d-4782-aad8-0df5d9bbc541",
   "metadata": {},
   "outputs": [
    {
     "ename": "InputValidationError",
     "evalue": "DataFrame(columns=['qid', 'query_vec']) does not match required columns for this transformer. TerrierRetr(BM25) [TransformerMode(missing_columns=['query'], extra_columns=[], mode_name='retrieve'), TransformerMode(missing_columns=['query', 'docid'], extra_columns=[], mode_name='rerank'), TransformerMode(missing_columns=['query_toks'], extra_columns=[], mode_name='retrieve_toks'), TransformerMode(missing_columns=['docno', 'query'], extra_columns=[], mode_name='rerank')]",
     "output_type": "error",
     "traceback": [
      "\u001b[0;31m---------------------------------------------------------------------------\u001b[0m",
      "\u001b[0;31mInputValidationError\u001b[0m                      Traceback (most recent call last)",
      "Cell \u001b[0;32mIn[7], line 2\u001b[0m\n\u001b[1;32m      1\u001b[0m \u001b[38;5;66;03m# let's say we pass in an invalid configuration (a dense vector version of the query)\u001b[39;00m\n\u001b[0;32m----> 2\u001b[0m \u001b[43mpt\u001b[49m\u001b[38;5;241;43m.\u001b[39;49m\u001b[43minspect\u001b[49m\u001b[38;5;241;43m.\u001b[39;49m\u001b[43mtransformer_outputs\u001b[49m\u001b[43m(\u001b[49m\u001b[43mbm25\u001b[49m\u001b[43m,\u001b[49m\u001b[43m \u001b[49m\u001b[43m[\u001b[49m\u001b[38;5;124;43m'\u001b[39;49m\u001b[38;5;124;43mqid\u001b[39;49m\u001b[38;5;124;43m'\u001b[39;49m\u001b[43m,\u001b[49m\u001b[43m \u001b[49m\u001b[38;5;124;43m'\u001b[39;49m\u001b[38;5;124;43mquery_vec\u001b[39;49m\u001b[38;5;124;43m'\u001b[39;49m\u001b[43m]\u001b[49m\u001b[43m)\u001b[49m\n\u001b[1;32m      3\u001b[0m \u001b[38;5;66;03m# we'll get an error that tells us what inputs we should have provided instead\u001b[39;00m\n",
      "File \u001b[0;32m/mnt/primary/home/ws/pyterrier/pyterrier/inspect.py:262\u001b[0m, in \u001b[0;36mtransformer_outputs\u001b[0;34m(transformer, input_columns, strict)\u001b[0m\n\u001b[1;32m    258\u001b[0m \u001b[38;5;28;01mif\u001b[39;00m strict:\n\u001b[1;32m    259\u001b[0m     \u001b[38;5;66;03m# add the underlying class to the IVE error, so its more clear whats not been validated\u001b[39;00m\n\u001b[1;32m    260\u001b[0m     \u001b[38;5;66;03m# this improves readability for subtransformers \u001b[39;00m\n\u001b[1;32m    261\u001b[0m     ive\u001b[38;5;241m.\u001b[39margs \u001b[38;5;241m=\u001b[39m (ive\u001b[38;5;241m.\u001b[39margs[\u001b[38;5;241m0\u001b[39m] \u001b[38;5;241m+\u001b[39m \u001b[38;5;124mf\u001b[39m\u001b[38;5;124m\"\u001b[39m\u001b[38;5;124m \u001b[39m\u001b[38;5;132;01m{\u001b[39;00mtransformer\u001b[38;5;132;01m}\u001b[39;00m\u001b[38;5;124m\"\u001b[39m, )\n\u001b[0;32m--> 262\u001b[0m     \u001b[38;5;28;01mraise\u001b[39;00m ive\n\u001b[1;32m    263\u001b[0m \u001b[38;5;28;01melse\u001b[39;00m:\n\u001b[1;32m    264\u001b[0m     \u001b[38;5;28;01mreturn\u001b[39;00m \u001b[38;5;28;01mNone\u001b[39;00m\n",
      "File \u001b[0;32m/mnt/primary/home/ws/pyterrier/pyterrier/inspect.py:255\u001b[0m, in \u001b[0;36mtransformer_outputs\u001b[0;34m(transformer, input_columns, strict)\u001b[0m\n\u001b[1;32m    252\u001b[0m             \u001b[38;5;28;01mreturn\u001b[39;00m \u001b[38;5;28;01mNone\u001b[39;00m\n\u001b[1;32m    254\u001b[0m \u001b[38;5;28;01mtry\u001b[39;00m:\n\u001b[0;32m--> 255\u001b[0m     res \u001b[38;5;241m=\u001b[39m \u001b[43mtransformer\u001b[49m\u001b[38;5;241;43m.\u001b[39;49m\u001b[43mtransform\u001b[49m\u001b[43m(\u001b[49m\u001b[43mpd\u001b[49m\u001b[38;5;241;43m.\u001b[39;49m\u001b[43mDataFrame\u001b[49m\u001b[43m(\u001b[49m\u001b[43mcolumns\u001b[49m\u001b[38;5;241;43m=\u001b[39;49m\u001b[43minput_columns\u001b[49m\u001b[43m)\u001b[49m\u001b[43m)\u001b[49m\n\u001b[1;32m    256\u001b[0m     \u001b[38;5;28;01mreturn\u001b[39;00m \u001b[38;5;28mlist\u001b[39m(res\u001b[38;5;241m.\u001b[39mcolumns)\n\u001b[1;32m    257\u001b[0m \u001b[38;5;28;01mexcept\u001b[39;00m pt\u001b[38;5;241m.\u001b[39mvalidate\u001b[38;5;241m.\u001b[39mInputValidationError \u001b[38;5;28;01mas\u001b[39;00m ive:\n",
      "File \u001b[0;32m/mnt/primary/home/ws/pyterrier/pyterrier/utils.py:139\u001b[0m, in \u001b[0;36mpre_invocation_decorator.<locals>._decorator_wrapper.<locals>._wrapper\u001b[0;34m(*args, **kwargs)\u001b[0m\n\u001b[1;32m    136\u001b[0m \u001b[38;5;129m@wraps\u001b[39m(fn)\n\u001b[1;32m    137\u001b[0m \u001b[38;5;28;01mdef\u001b[39;00m\u001b[38;5;250m \u001b[39m\u001b[38;5;21m_wrapper\u001b[39m(\u001b[38;5;241m*\u001b[39margs, \u001b[38;5;241m*\u001b[39m\u001b[38;5;241m*\u001b[39mkwargs):\n\u001b[1;32m    138\u001b[0m     decorator(fn)\n\u001b[0;32m--> 139\u001b[0m     \u001b[38;5;28;01mreturn\u001b[39;00m \u001b[43mfn\u001b[49m\u001b[43m(\u001b[49m\u001b[38;5;241;43m*\u001b[39;49m\u001b[43margs\u001b[49m\u001b[43m,\u001b[49m\u001b[43m \u001b[49m\u001b[38;5;241;43m*\u001b[39;49m\u001b[38;5;241;43m*\u001b[39;49m\u001b[43mkwargs\u001b[49m\u001b[43m)\u001b[49m\n",
      "File \u001b[0;32m/mnt/primary/home/ws/pyterrier/pyterrier/terrier/retriever.py:393\u001b[0m, in \u001b[0;36mRetriever.transform\u001b[0;34m(self, queries)\u001b[0m\n\u001b[1;32m    390\u001b[0m     \u001b[38;5;28;01mraise\u001b[39;00m \u001b[38;5;167;01mValueError\u001b[39;00m(\u001b[38;5;124m\"\u001b[39m\u001b[38;5;124m.transform() should be passed a DataFrame (found \u001b[39m\u001b[38;5;132;01m%s\u001b[39;00m\u001b[38;5;124m). Use .search() to execute a single query; Use .transform_iter() for iter-dicts\u001b[39m\u001b[38;5;124m\"\u001b[39m \u001b[38;5;241m%\u001b[39m \u001b[38;5;28mstr\u001b[39m(\u001b[38;5;28mtype\u001b[39m(queries)))\n\u001b[1;32m    392\u001b[0m \u001b[38;5;66;03m# use pt.validate - this makes inspection of input columns better\u001b[39;00m\n\u001b[0;32m--> 393\u001b[0m \u001b[38;5;28;01mwith\u001b[39;00m pt\u001b[38;5;241m.\u001b[39mvalidate\u001b[38;5;241m.\u001b[39many(queries) \u001b[38;5;28;01mas\u001b[39;00m v:\n\u001b[1;32m    394\u001b[0m     v\u001b[38;5;241m.\u001b[39mcolumns(includes\u001b[38;5;241m=\u001b[39m[\u001b[38;5;124m'\u001b[39m\u001b[38;5;124mqid\u001b[39m\u001b[38;5;124m'\u001b[39m, \u001b[38;5;124m'\u001b[39m\u001b[38;5;124mquery\u001b[39m\u001b[38;5;124m'\u001b[39m], excludes\u001b[38;5;241m=\u001b[39m[\u001b[38;5;124m'\u001b[39m\u001b[38;5;124mdocid\u001b[39m\u001b[38;5;124m'\u001b[39m, \u001b[38;5;124m'\u001b[39m\u001b[38;5;124mdocno\u001b[39m\u001b[38;5;124m'\u001b[39m], mode\u001b[38;5;241m=\u001b[39m\u001b[38;5;124m'\u001b[39m\u001b[38;5;124mretrieve\u001b[39m\u001b[38;5;124m'\u001b[39m) \u001b[38;5;66;03m# query based frame without docno or docid\u001b[39;00m\n\u001b[1;32m    395\u001b[0m     v\u001b[38;5;241m.\u001b[39mcolumns(includes\u001b[38;5;241m=\u001b[39m[\u001b[38;5;124m'\u001b[39m\u001b[38;5;124mqid\u001b[39m\u001b[38;5;124m'\u001b[39m, \u001b[38;5;124m'\u001b[39m\u001b[38;5;124mquery\u001b[39m\u001b[38;5;124m'\u001b[39m, \u001b[38;5;124m'\u001b[39m\u001b[38;5;124mdocid\u001b[39m\u001b[38;5;124m'\u001b[39m], mode\u001b[38;5;241m=\u001b[39m\u001b[38;5;124m'\u001b[39m\u001b[38;5;124mrerank\u001b[39m\u001b[38;5;124m'\u001b[39m) \u001b[38;5;66;03m# docid-based results frame\u001b[39;00m\n",
      "File \u001b[0;32m/mnt/primary/home/ws/pyterrier/pyterrier/validate.py:257\u001b[0m, in \u001b[0;36m_ValidationContextManager.__exit__\u001b[0;34m(self, exc_type, exc, traceback)\u001b[0m\n\u001b[1;32m    255\u001b[0m         warnings\u001b[38;5;241m.\u001b[39mwarn(\u001b[38;5;124mf\u001b[39m\u001b[38;5;124m\"\u001b[39m\u001b[38;5;132;01m{\u001b[39;00mmessage\u001b[38;5;132;01m}\u001b[39;00m\u001b[38;5;124m \u001b[39m\u001b[38;5;132;01m{\u001b[39;00m\u001b[38;5;28mself\u001b[39m\u001b[38;5;241m.\u001b[39merrors\u001b[38;5;132;01m}\u001b[39;00m\u001b[38;5;124m\"\u001b[39m, InputValidationWarning)\n\u001b[1;32m    256\u001b[0m     \u001b[38;5;28;01melse\u001b[39;00m:\n\u001b[0;32m--> 257\u001b[0m         \u001b[38;5;28;01mraise\u001b[39;00m InputValidationError(message, \u001b[38;5;28mself\u001b[39m\u001b[38;5;241m.\u001b[39merrors)\n\u001b[1;32m    258\u001b[0m \u001b[38;5;28;01mreturn\u001b[39;00m \u001b[38;5;28;01mNone\u001b[39;00m\n",
      "\u001b[0;31mInputValidationError\u001b[0m: DataFrame(columns=['qid', 'query_vec']) does not match required columns for this transformer. TerrierRetr(BM25) [TransformerMode(missing_columns=['query'], extra_columns=[], mode_name='retrieve'), TransformerMode(missing_columns=['query', 'docid'], extra_columns=[], mode_name='rerank'), TransformerMode(missing_columns=['query_toks'], extra_columns=[], mode_name='retrieve_toks'), TransformerMode(missing_columns=['docno', 'query'], extra_columns=[], mode_name='rerank')]"
     ]
    }
   ],
   "source": [
    "# let's say we pass in an invalid configuration (a dense vector version of the query)\n",
    "pt.inspect.transformer_outputs(bm25, ['qid', 'query_vec'])\n",
    "# we'll get an error that tells us what inputs we should have provided instead"
   ]
  },
  {
   "cell_type": "code",
   "execution_count": 8,
   "id": "bb6941df-e1e4-4eae-8f49-34d4baf4541f",
   "metadata": {},
   "outputs": [
    {
     "data": {
      "text/plain": [
       "[TransformerAttribute(name='index_location', value=<org.terrier.querying.IndexRef at 0x7fad60219ee0 jclass=org/terrier/querying/IndexRef jself=<LocalRef obj=0x5ae3818 at 0x7fad78833b10>>, init_default_value=<class 'inspect._empty'>, init_parameter_kind=None),\n",
       " TransformerAttribute(name='num_results', value=1000, init_default_value=<class 'inspect._empty'>, init_parameter_kind=None),\n",
       " TransformerAttribute(name='metadata', value=['docno'], init_default_value=<class 'inspect._empty'>, init_parameter_kind=None),\n",
       " TransformerAttribute(name='wmodel', value='BM25', init_default_value=<class 'inspect._empty'>, init_parameter_kind=None),\n",
       " TransformerAttribute(name='threads', value=1, init_default_value=<class 'inspect._empty'>, init_parameter_kind=None),\n",
       " TransformerAttribute(name='verbose', value=False, init_default_value=<class 'inspect._empty'>, init_parameter_kind=None),\n",
       " TransformerAttribute(name='terrierql', value='on', init_default_value=<class 'inspect._empty'>, init_parameter_kind=None),\n",
       " TransformerAttribute(name='parsecontrols', value='on', init_default_value=<class 'inspect._empty'>, init_parameter_kind=None),\n",
       " TransformerAttribute(name='parseql', value='on', init_default_value=<class 'inspect._empty'>, init_parameter_kind=None),\n",
       " TransformerAttribute(name='applypipeline', value='on', init_default_value=<class 'inspect._empty'>, init_parameter_kind=None),\n",
       " TransformerAttribute(name='localmatching', value='on', init_default_value=<class 'inspect._empty'>, init_parameter_kind=None),\n",
       " TransformerAttribute(name='filters', value='on', init_default_value=<class 'inspect._empty'>, init_parameter_kind=None),\n",
       " TransformerAttribute(name='decorate', value='on', init_default_value=<class 'inspect._empty'>, init_parameter_kind=None),\n",
       " TransformerAttribute(name='bm25.k_1', value=1.2, init_default_value=<class 'inspect._empty'>, init_parameter_kind=None),\n",
       " TransformerAttribute(name='bm25.b', value=0.75, init_default_value=<class 'inspect._empty'>, init_parameter_kind=None),\n",
       " TransformerAttribute(name='decorate_batch', value='on', init_default_value=<class 'inspect._empty'>, init_parameter_kind=None),\n",
       " TransformerAttribute(name='querying.processes', value='terrierql:TerrierQLParser,parsecontrols:TerrierQLToControls,parseql:TerrierQLToMatchingQueryTerms,matchopql:MatchingOpQLParser,applypipeline:ApplyTermPipeline,context_wmodel:org.terrier.python.WmodelFromContextProcess,localmatching:LocalManager$ApplyLocalMatching,qe:QueryExpansion,labels:org.terrier.learning.LabelDecorator,filters:LocalManager$PostFilterProcess,decorate:SimpleDecorateProcess', init_default_value=<class 'inspect._empty'>, init_parameter_kind=None),\n",
       " TransformerAttribute(name='querying.postfilters', value='decorate:SimpleDecorate,site:SiteFilter,scope:Scope', init_default_value=<class 'inspect._empty'>, init_parameter_kind=None),\n",
       " TransformerAttribute(name='querying.default.controls', value='wmodel:DPH,parsecontrols:on,parseql:on,applypipeline:on,terrierql:on,localmatching:on,filters:on,decorate:on', init_default_value=<class 'inspect._empty'>, init_parameter_kind=None),\n",
       " TransformerAttribute(name='querying.allowed.controls', value='scope,qe,qemodel,start,end,site,scope,applypipeline', init_default_value=<class 'inspect._empty'>, init_parameter_kind=None),\n",
       " TransformerAttribute(name='termpipelines', value='Stopwords,PorterStemmer', init_default_value=<class 'inspect._empty'>, init_parameter_kind=None)]"
      ]
     },
     "execution_count": 8,
     "metadata": {},
     "output_type": "execute_result"
    }
   ],
   "source": [
    "# We can also check a transformer's attributes.\n",
    "pt.inspect.transformer_attributes(bm25)"
   ]
  },
  {
   "cell_type": "code",
   "execution_count": 9,
   "id": "629c3c6e-a11f-487a-ac9b-c1dd3ce65810",
   "metadata": {},
   "outputs": [
    {
     "data": {
      "text/plain": [
       "[TransformerAttribute(name='index_location', value=<org.terrier.querying.IndexRef at 0x7fad60219ee0 jclass=org/terrier/querying/IndexRef jself=<LocalRef obj=0x5ae3818 at 0x7fad78833b10>>, init_default_value=<class 'inspect._empty'>, init_parameter_kind=None),\n",
       " TransformerAttribute(name='num_results', value=1000, init_default_value=<class 'inspect._empty'>, init_parameter_kind=None),\n",
       " TransformerAttribute(name='metadata', value=['docno'], init_default_value=<class 'inspect._empty'>, init_parameter_kind=None),\n",
       " TransformerAttribute(name='wmodel', value='BM25', init_default_value=<class 'inspect._empty'>, init_parameter_kind=None),\n",
       " TransformerAttribute(name='threads', value=1, init_default_value=<class 'inspect._empty'>, init_parameter_kind=None),\n",
       " TransformerAttribute(name='verbose', value=False, init_default_value=<class 'inspect._empty'>, init_parameter_kind=None),\n",
       " TransformerAttribute(name='terrierql', value='on', init_default_value=<class 'inspect._empty'>, init_parameter_kind=None),\n",
       " TransformerAttribute(name='parsecontrols', value='on', init_default_value=<class 'inspect._empty'>, init_parameter_kind=None),\n",
       " TransformerAttribute(name='parseql', value='on', init_default_value=<class 'inspect._empty'>, init_parameter_kind=None),\n",
       " TransformerAttribute(name='applypipeline', value='on', init_default_value=<class 'inspect._empty'>, init_parameter_kind=None),\n",
       " TransformerAttribute(name='localmatching', value='on', init_default_value=<class 'inspect._empty'>, init_parameter_kind=None),\n",
       " TransformerAttribute(name='filters', value='on', init_default_value=<class 'inspect._empty'>, init_parameter_kind=None),\n",
       " TransformerAttribute(name='decorate', value='on', init_default_value=<class 'inspect._empty'>, init_parameter_kind=None),\n",
       " TransformerAttribute(name='bm25.b', value=0.9, init_default_value=<class 'inspect._empty'>, init_parameter_kind=None),\n",
       " TransformerAttribute(name='bm25.k_1', value=1.2, init_default_value=<class 'inspect._empty'>, init_parameter_kind=None),\n",
       " TransformerAttribute(name='decorate_batch', value='on', init_default_value=<class 'inspect._empty'>, init_parameter_kind=None),\n",
       " TransformerAttribute(name='querying.processes', value='terrierql:TerrierQLParser,parsecontrols:TerrierQLToControls,parseql:TerrierQLToMatchingQueryTerms,matchopql:MatchingOpQLParser,applypipeline:ApplyTermPipeline,context_wmodel:org.terrier.python.WmodelFromContextProcess,localmatching:LocalManager$ApplyLocalMatching,qe:QueryExpansion,labels:org.terrier.learning.LabelDecorator,filters:LocalManager$PostFilterProcess,decorate:SimpleDecorateProcess', init_default_value=<class 'inspect._empty'>, init_parameter_kind=None),\n",
       " TransformerAttribute(name='querying.postfilters', value='decorate:SimpleDecorate,site:SiteFilter,scope:Scope', init_default_value=<class 'inspect._empty'>, init_parameter_kind=None),\n",
       " TransformerAttribute(name='querying.default.controls', value='wmodel:DPH,parsecontrols:on,parseql:on,applypipeline:on,terrierql:on,localmatching:on,filters:on,decorate:on', init_default_value=<class 'inspect._empty'>, init_parameter_kind=None),\n",
       " TransformerAttribute(name='querying.allowed.controls', value='scope,qe,qemodel,start,end,site,scope,applypipeline', init_default_value=<class 'inspect._empty'>, init_parameter_kind=None),\n",
       " TransformerAttribute(name='termpipelines', value='Stopwords,PorterStemmer', init_default_value=<class 'inspect._empty'>, init_parameter_kind=None)]"
      ]
     },
     "execution_count": 9,
     "metadata": {},
     "output_type": "execute_result"
    }
   ],
   "source": [
    "# inspect also lets us return a new version of the transformer with modified attributes\n",
    "new_bm25 = pt.inspect.transformer_apply_attributes(bm25, **{'bm25.b': 0.9})\n",
    "pt.inspect.transformer_attributes(new_bm25)\n",
    "# we can see that bm25.b is updated"
   ]
  },
  {
   "cell_type": "code",
   "execution_count": null,
   "id": "24b97df4-982f-4886-b309-b5ea0b89ae9e",
   "metadata": {},
   "outputs": [],
   "source": []
  }
 ],
 "metadata": {
  "kernelspec": {
   "display_name": "Python [conda env:base] *",
   "language": "python",
   "name": "conda-base-py"
  },
  "language_info": {
   "codemirror_mode": {
    "name": "ipython",
    "version": 3
   },
   "file_extension": ".py",
   "mimetype": "text/x-python",
   "name": "python",
   "nbconvert_exporter": "python",
   "pygments_lexer": "ipython3",
   "version": "3.10.13"
  }
 },
 "nbformat": 4,
 "nbformat_minor": 5
}
